{
 "cells": [
  {
   "cell_type": "code",
   "execution_count": 1,
   "metadata": {},
   "outputs": [
    {
     "name": "stderr",
     "output_type": "stream",
     "text": [
      "2023-04-20 12:41:43.950552: I tensorflow/core/platform/cpu_feature_guard.cc:193] This TensorFlow binary is optimized with oneAPI Deep Neural Network Library (oneDNN) to use the following CPU instructions in performance-critical operations:  SSE4.1 SSE4.2\n",
      "To enable them in other operations, rebuild TensorFlow with the appropriate compiler flags.\n"
     ]
    }
   ],
   "source": [
    "import numpy as np\n",
    "import pandas as pd\n",
    "import pickle\n",
    "from nltk.tokenize import TreebankWordTokenizer\n",
    "from tensorflow.keras.preprocessing.sequence import pad_sequences"
   ]
  },
  {
   "cell_type": "code",
   "execution_count": 2,
   "metadata": {},
   "outputs": [
    {
     "data": {
      "text/html": [
       "<div>\n",
       "<style scoped>\n",
       "    .dataframe tbody tr th:only-of-type {\n",
       "        vertical-align: middle;\n",
       "    }\n",
       "\n",
       "    .dataframe tbody tr th {\n",
       "        vertical-align: top;\n",
       "    }\n",
       "\n",
       "    .dataframe thead th {\n",
       "        text-align: right;\n",
       "    }\n",
       "</style>\n",
       "<table border=\"1\" class=\"dataframe\">\n",
       "  <thead>\n",
       "    <tr style=\"text-align: right;\">\n",
       "      <th></th>\n",
       "      <th>review_id</th>\n",
       "      <th>user_id</th>\n",
       "      <th>business_id</th>\n",
       "      <th>stars</th>\n",
       "      <th>useful</th>\n",
       "      <th>funny</th>\n",
       "      <th>cool</th>\n",
       "      <th>text</th>\n",
       "      <th>date</th>\n",
       "    </tr>\n",
       "  </thead>\n",
       "  <tbody>\n",
       "    <tr>\n",
       "      <th>0</th>\n",
       "      <td>AqPFMleE6RsU23_auESxiA</td>\n",
       "      <td>_7bHUi9Uuf5__HHc_Q8guQ</td>\n",
       "      <td>kxX2SOes4o-D3ZQBkiMRfA</td>\n",
       "      <td>5</td>\n",
       "      <td>1</td>\n",
       "      <td>0</td>\n",
       "      <td>1</td>\n",
       "      <td>Wow!  Yummy, different,  delicious.   Our favo...</td>\n",
       "      <td>2015-01-04 00:01:03</td>\n",
       "    </tr>\n",
       "    <tr>\n",
       "      <th>1</th>\n",
       "      <td>JrIxlS1TzJ-iCu79ul40cQ</td>\n",
       "      <td>eUta8W_HdHMXPzLBBZhL1A</td>\n",
       "      <td>04UD14gamNjLY0IDYVhHJg</td>\n",
       "      <td>1</td>\n",
       "      <td>1</td>\n",
       "      <td>2</td>\n",
       "      <td>1</td>\n",
       "      <td>I am a long term frequent customer of this est...</td>\n",
       "      <td>2015-09-23 23:10:31</td>\n",
       "    </tr>\n",
       "    <tr>\n",
       "      <th>2</th>\n",
       "      <td>8JFGBuHMoiNDyfcxuWNtrA</td>\n",
       "      <td>smOvOajNG0lS4Pq7d8g4JQ</td>\n",
       "      <td>RZtGWDLCAtuipwaZ-UfjmQ</td>\n",
       "      <td>4</td>\n",
       "      <td>0</td>\n",
       "      <td>0</td>\n",
       "      <td>0</td>\n",
       "      <td>Good food--loved the gnocchi with marinara\\nth...</td>\n",
       "      <td>2009-10-14 19:57:14</td>\n",
       "    </tr>\n",
       "    <tr>\n",
       "      <th>3</th>\n",
       "      <td>oyaMhzBSwfGgemSGuZCdwQ</td>\n",
       "      <td>Dd1jQj7S-BFGqRbApFzCFw</td>\n",
       "      <td>YtSqYv1Q_pOltsVPSx54SA</td>\n",
       "      <td>5</td>\n",
       "      <td>0</td>\n",
       "      <td>0</td>\n",
       "      <td>0</td>\n",
       "      <td>Tremendous service (Big shout out to Douglas) ...</td>\n",
       "      <td>2013-06-24 11:21:25</td>\n",
       "    </tr>\n",
       "    <tr>\n",
       "      <th>4</th>\n",
       "      <td>Xs8Z8lmKkosqW5mw_sVAoA</td>\n",
       "      <td>IQsF3Rc6IgCzjVV9DE8KXg</td>\n",
       "      <td>eFvzHawVJofxSnD7TgbZtg</td>\n",
       "      <td>5</td>\n",
       "      <td>0</td>\n",
       "      <td>0</td>\n",
       "      <td>0</td>\n",
       "      <td>My absolute favorite cafe in the city. Their b...</td>\n",
       "      <td>2014-11-12 15:30:27</td>\n",
       "    </tr>\n",
       "    <tr>\n",
       "      <th>...</th>\n",
       "      <td>...</td>\n",
       "      <td>...</td>\n",
       "      <td>...</td>\n",
       "      <td>...</td>\n",
       "      <td>...</td>\n",
       "      <td>...</td>\n",
       "      <td>...</td>\n",
       "      <td>...</td>\n",
       "      <td>...</td>\n",
       "    </tr>\n",
       "    <tr>\n",
       "      <th>687284</th>\n",
       "      <td>Wrt6pZizQzw-ZTKrvMwrGw</td>\n",
       "      <td>ua6QuBe6mar6pDrhHETzJQ</td>\n",
       "      <td>Bk_1vsPtOtO0bojfQZQIOw</td>\n",
       "      <td>2</td>\n",
       "      <td>3</td>\n",
       "      <td>3</td>\n",
       "      <td>2</td>\n",
       "      <td>Ok, I have to say, after living on this block ...</td>\n",
       "      <td>2008-12-15 23:18:27</td>\n",
       "    </tr>\n",
       "    <tr>\n",
       "      <th>687285</th>\n",
       "      <td>X5R98ygOtbhryDiKA-J2qQ</td>\n",
       "      <td>LHWtjTG7e1NzNPYUbUo-9w</td>\n",
       "      <td>rgeuy1qbw6Z8B6CSVANHIA</td>\n",
       "      <td>5</td>\n",
       "      <td>1</td>\n",
       "      <td>1</td>\n",
       "      <td>1</td>\n",
       "      <td>I've been to the other Federal Donuts location...</td>\n",
       "      <td>2012-10-13 14:39:37</td>\n",
       "    </tr>\n",
       "    <tr>\n",
       "      <th>687286</th>\n",
       "      <td>MVg4YUQeEhCA7Z7RsBJSVg</td>\n",
       "      <td>7-7A0Avj47slLGV7yBFc8w</td>\n",
       "      <td>ytynqOUb3hjKeJfRj5Tshw</td>\n",
       "      <td>3</td>\n",
       "      <td>1</td>\n",
       "      <td>0</td>\n",
       "      <td>0</td>\n",
       "      <td>I was so excited about all the food I saw, but...</td>\n",
       "      <td>2013-07-25 21:00:15</td>\n",
       "    </tr>\n",
       "    <tr>\n",
       "      <th>687287</th>\n",
       "      <td>nLjbVsETpqO17RbFcqskkA</td>\n",
       "      <td>am7-gkH_PDz598oTdYSD6A</td>\n",
       "      <td>3gVSrS4kffGGZT8oXHsIcw</td>\n",
       "      <td>3</td>\n",
       "      <td>2</td>\n",
       "      <td>0</td>\n",
       "      <td>2</td>\n",
       "      <td>*Later Yelp* I've only been here once, but I l...</td>\n",
       "      <td>2014-11-03 14:45:46</td>\n",
       "    </tr>\n",
       "    <tr>\n",
       "      <th>687288</th>\n",
       "      <td>cACxcUY_AIsQKkpDRXuqnw</td>\n",
       "      <td>MCzlzlOw7IGbRAKVjJBPtg</td>\n",
       "      <td>fcGexL5VH5G2Xw0tRj9uOQ</td>\n",
       "      <td>3</td>\n",
       "      <td>1</td>\n",
       "      <td>1</td>\n",
       "      <td>0</td>\n",
       "      <td>This is a good pizza option - they deliver thr...</td>\n",
       "      <td>2018-03-13 13:54:48</td>\n",
       "    </tr>\n",
       "  </tbody>\n",
       "</table>\n",
       "<p>687289 rows × 9 columns</p>\n",
       "</div>"
      ],
      "text/plain": [
       "                     review_id                 user_id  \\\n",
       "0       AqPFMleE6RsU23_auESxiA  _7bHUi9Uuf5__HHc_Q8guQ   \n",
       "1       JrIxlS1TzJ-iCu79ul40cQ  eUta8W_HdHMXPzLBBZhL1A   \n",
       "2       8JFGBuHMoiNDyfcxuWNtrA  smOvOajNG0lS4Pq7d8g4JQ   \n",
       "3       oyaMhzBSwfGgemSGuZCdwQ  Dd1jQj7S-BFGqRbApFzCFw   \n",
       "4       Xs8Z8lmKkosqW5mw_sVAoA  IQsF3Rc6IgCzjVV9DE8KXg   \n",
       "...                        ...                     ...   \n",
       "687284  Wrt6pZizQzw-ZTKrvMwrGw  ua6QuBe6mar6pDrhHETzJQ   \n",
       "687285  X5R98ygOtbhryDiKA-J2qQ  LHWtjTG7e1NzNPYUbUo-9w   \n",
       "687286  MVg4YUQeEhCA7Z7RsBJSVg  7-7A0Avj47slLGV7yBFc8w   \n",
       "687287  nLjbVsETpqO17RbFcqskkA  am7-gkH_PDz598oTdYSD6A   \n",
       "687288  cACxcUY_AIsQKkpDRXuqnw  MCzlzlOw7IGbRAKVjJBPtg   \n",
       "\n",
       "                   business_id  stars  useful  funny  cool  \\\n",
       "0       kxX2SOes4o-D3ZQBkiMRfA      5       1      0     1   \n",
       "1       04UD14gamNjLY0IDYVhHJg      1       1      2     1   \n",
       "2       RZtGWDLCAtuipwaZ-UfjmQ      4       0      0     0   \n",
       "3       YtSqYv1Q_pOltsVPSx54SA      5       0      0     0   \n",
       "4       eFvzHawVJofxSnD7TgbZtg      5       0      0     0   \n",
       "...                        ...    ...     ...    ...   ...   \n",
       "687284  Bk_1vsPtOtO0bojfQZQIOw      2       3      3     2   \n",
       "687285  rgeuy1qbw6Z8B6CSVANHIA      5       1      1     1   \n",
       "687286  ytynqOUb3hjKeJfRj5Tshw      3       1      0     0   \n",
       "687287  3gVSrS4kffGGZT8oXHsIcw      3       2      0     2   \n",
       "687288  fcGexL5VH5G2Xw0tRj9uOQ      3       1      1     0   \n",
       "\n",
       "                                                     text                 date  \n",
       "0       Wow!  Yummy, different,  delicious.   Our favo...  2015-01-04 00:01:03  \n",
       "1       I am a long term frequent customer of this est...  2015-09-23 23:10:31  \n",
       "2       Good food--loved the gnocchi with marinara\\nth...  2009-10-14 19:57:14  \n",
       "3       Tremendous service (Big shout out to Douglas) ...  2013-06-24 11:21:25  \n",
       "4       My absolute favorite cafe in the city. Their b...  2014-11-12 15:30:27  \n",
       "...                                                   ...                  ...  \n",
       "687284  Ok, I have to say, after living on this block ...  2008-12-15 23:18:27  \n",
       "687285  I've been to the other Federal Donuts location...  2012-10-13 14:39:37  \n",
       "687286  I was so excited about all the food I saw, but...  2013-07-25 21:00:15  \n",
       "687287  *Later Yelp* I've only been here once, but I l...  2014-11-03 14:45:46  \n",
       "687288  This is a good pizza option - they deliver thr...  2018-03-13 13:54:48  \n",
       "\n",
       "[687289 rows x 9 columns]"
      ]
     },
     "execution_count": 2,
     "metadata": {},
     "output_type": "execute_result"
    }
   ],
   "source": [
    "review = []\n",
    "for i in range(1, 8):\n",
    "    review.append(pd.read_csv(f'data/review{i}.csv'))\n",
    "review = pd.concat(review, ignore_index=True)\n",
    "review"
   ]
  },
  {
   "cell_type": "code",
   "execution_count": 3,
   "metadata": {},
   "outputs": [
    {
     "data": {
      "text/plain": [
       "365243"
      ]
     },
     "execution_count": 3,
     "metadata": {},
     "output_type": "execute_result"
    }
   ],
   "source": [
    "def clean(string):\n",
    "    return TreebankWordTokenizer().tokenize(string.lower())\n",
    "\n",
    "review['text'] = review['text'].apply(clean)\n",
    "words = review['text'].apply(set)\n",
    "words = set().union(*words)\n",
    "len(words)"
   ]
  },
  {
   "cell_type": "code",
   "execution_count": 4,
   "metadata": {},
   "outputs": [],
   "source": [
    "word2idx = {w: i + 1 for i, w in enumerate(words)}\n",
    "f = open(\"data/word2idx.pkl\", \"wb\")\n",
    "pickle.dump(word2idx, f)\n",
    "f.close()"
   ]
  },
  {
   "cell_type": "code",
   "execution_count": 5,
   "metadata": {},
   "outputs": [
    {
     "data": {
      "text/plain": [
       "0         [254929, 79360, 55682, 319888, 66617, 319888, ...\n",
       "1         [318324, 358926, 211940, 198440, 340779, 29641...\n",
       "2         [309650, 225259, 114253, 232146, 32407, 190571...\n",
       "3         [290475, 324746, 30129, 313303, 338737, 326985...\n",
       "4         [104641, 88524, 35451, 63094, 255688, 32407, 5...\n",
       "                                ...                        \n",
       "687284    [71497, 319888, 318324, 171514, 143085, 54122,...\n",
       "687285    [318324, 207181, 40781, 143085, 32407, 99467, ...\n",
       "687286    [318324, 162676, 350605, 280013, 362460, 18563...\n",
       "687287    [90095, 82718, 318324, 207181, 26702, 40781, 1...\n",
       "687288    [288024, 187705, 211940, 309650, 138984, 14385...\n",
       "Name: text, Length: 687289, dtype: object"
      ]
     },
     "execution_count": 5,
     "metadata": {},
     "output_type": "execute_result"
    }
   ],
   "source": [
    "X = review['text'].apply(lambda r: [word2idx[w] for w in r])\n",
    "X"
   ]
  },
  {
   "cell_type": "code",
   "execution_count": 6,
   "metadata": {},
   "outputs": [
    {
     "data": {
      "text/plain": [
       "(687289, 1093)"
      ]
     },
     "execution_count": 6,
     "metadata": {},
     "output_type": "execute_result"
    }
   ],
   "source": [
    "max_words = max([len(i) for i in X])\n",
    "X = pad_sequences(X, max_words)\n",
    "X.shape"
   ]
  },
  {
   "cell_type": "code",
   "execution_count": 7,
   "metadata": {},
   "outputs": [],
   "source": [
    "y = review['stars'].to_numpy()\n",
    "np.savez_compressed('data/reviews.npz', X=X, y=y)"
   ]
  }
 ],
 "metadata": {
  "kernelspec": {
   "display_name": "base",
   "language": "python",
   "name": "python3"
  },
  "language_info": {
   "codemirror_mode": {
    "name": "ipython",
    "version": 3
   },
   "file_extension": ".py",
   "mimetype": "text/x-python",
   "name": "python",
   "nbconvert_exporter": "python",
   "pygments_lexer": "ipython3",
   "version": "3.10.10"
  },
  "orig_nbformat": 4
 },
 "nbformat": 4,
 "nbformat_minor": 2
}
